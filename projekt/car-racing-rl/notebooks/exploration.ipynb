{
 "cells": [
  {
   "cell_type": "markdown",
   "metadata": {},
   "source": [
    "# Eksploracja danych i wizualizacja\n",
    "\n",
    "W tym notatniku będziemy eksplorować dane z gry Car Racing oraz wizualizować wyniki działania agentów."
   ]
  },
  {
   "cell_type": "code",
   "execution_count": null,
   "metadata": {
    "collapsed": false
   },
   "outputs": [],
   "source": [
    "import gym\n",
    "import numpy as np\n",
    "import matplotlib.pyplot as plt\n",
    "\n",
    "# Inicjalizacja środowiska\n",
    "env = gym.make('CarRacing-v2')\n",
    "\n",
    "# Funkcja do wizualizacji akcji agenta\n",
    "def visualize_agent_action(agent, num_episodes=5):\n",
    "    for episode in range(num_episodes):\n",
    "        state = env.reset()\n",
    "        done = False\n",
    "        while not done:\n",
    "            action = agent.act(state)\n",
    "            state, reward, done, info = env.step(action)\n",
    "            env.render()\n",
    "    env.close()\n",
    "\n",
    "# Przykład użycia (zakładając, że mamy zaimplementowanego agenta)\n",
    "# visualize_agent_action(your_agent_instance)\n"
   ]
  },
  {
   "cell_type": "markdown",
   "metadata": {},
   "source": [
    "## Analiza wyników\n",
    "\n",
    "W tej sekcji możemy dodać kod do analizy wyników agentów, takich jak średnie nagrody, wykresy itp."
   ]
  },
  {
   "cell_type": "code",
   "execution_count": null,
   "metadata": {
    "collapsed": false
   },
   "outputs": [],
   "source": [
    "# Przykładowa funkcja do analizy wyników\n",
    "def plot_rewards(rewards):\n",
    "    plt.plot(rewards)\n",
    "    plt.title('Nagrody agenta')\n",
    "    plt.xlabel('Epizod')\n",
    "    plt.ylabel('Nagroda')\n",
    "    plt.show()\n",
    "\n",
    "# Przykład użycia\n",
    "# plot_rewards(your_rewards_list)\n"
   ]
  }
 ],
 "metadata": {
  "kernelspec": {
   "display_name": "Python 3",
   "language": "python",
   "name": "python3"
  },
  "language_info": {
   "codemirror_mode": {
    "name": "ipython",
    "version": 3
   },
   "file_extension": ".py",
   "mimetype": "text/x-python",
   "name": "python",
   "nbconvert_exporter": "python",
   "pygments_lexer": "ipython3",
   "version": "3.8.5"
  }
 },
 "nbformat": 4,
 "nbformat_minor": 4
}