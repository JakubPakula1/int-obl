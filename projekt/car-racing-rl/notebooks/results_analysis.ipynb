{
 "cells": [
  {
   "cell_type": "markdown",
   "metadata": {},
   "source": [
    "# Analiza wyników eksperymentów\n",
    "\n",
    "W tym notatniku przeprowadzimy analizę wyników uzyskanych podczas treningu agentów w środowisku wyścigów samochodowych. Celem jest zrozumienie wydajności różnych agentów oraz ich strategii działania."
   ]
  },
  {
   "cell_type": "code",
   "execution_count": null,
   "metadata": {
    "collapsed": false
   },
   "outputs": [],
   "source": [
    "# Importowanie niezbędnych bibliotek\n",
    "import pandas as pd\n",
    "import matplotlib.pyplot as plt\n",
    "import seaborn as sns\n",
    "\n",
    "# Ustawienia wizualizacji\n",
    "sns.set(style='whitegrid')\n",
    "\n",
    "# Wczytanie wyników z pliku CSV\n",
    "results_df = pd.read_csv('../results/experiment_results.csv')\n",
    "\n",
    "# Wyświetlenie pierwszych kilku wierszy danych\n",
    "results_df.head()"
   ]
  },
  {
   "cell_type": "markdown",
   "metadata": {},
   "source": [
    "## Wizualizacja wyników\n",
    "\n",
    "Stworzymy wykresy, które pomogą nam zrozumieć, jak różni agenci radzili sobie w trakcie treningu."
   ]
  },
  {
   "cell_type": "code",
   "execution_count": null,
   "metadata": {
    "collapsed": false
   },
   "outputs": [],
   "source": [
    "# Wykres porównawczy wydajności agentów\n",
    "plt.figure(figsize=(12, 6))\n",
    "sns.lineplot(data=results_df, x='episode', y='reward', hue='agent_type')\n",
    "plt.title('Porównanie wydajności agentów w trakcie treningu')\n",
    "plt.xlabel('Numer odcinka')\n",
    "plt.ylabel('Nagroda')\n",
    "plt.legend(title='Typ agenta')\n",
    "plt.show()"
   ]
  },
  {
   "cell_type": "markdown",
   "metadata": {},
   "source": [
    "## Wnioski\n",
    "\n",
    "Na podstawie analizy wyników możemy wyciągnąć wnioski dotyczące efektywności poszczególnych agentów oraz ich strategii. Dalsze analizy mogą obejmować tuning hiperparametrów oraz testowanie nowych algorytmów."
   ]
  }
 ],
 "metadata": {
  "kernelspec": {
   "display_name": "Python 3",
   "language": "python",
   "name": "python3"
  },
  "language_info": {
   "codemirror_mode": {
    "name": "ipython",
    "version": 3
   },
   "file_extension": ".py",
   "mimetype": "text/x-python",
   "name": "python",
   "nbconvert_exporter": "python",
   "pygments_lexer": "ipython3",
   "version": "3.8.5"
  }
 },
 "nbformat": 4,
 "nbformat_minor": 4
}